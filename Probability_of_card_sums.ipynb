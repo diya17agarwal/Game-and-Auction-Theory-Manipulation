{
  "cells": [
    {
      "cell_type": "code",
      "execution_count": null,
      "id": "7282512d",
      "metadata": {
        "id": "7282512d"
      },
      "outputs": [],
      "source": [
        "import random as rand\n",
        "import numpy as np"
      ]
    },
    {
      "cell_type": "code",
      "execution_count": null,
      "id": "9546fb07",
      "metadata": {
        "colab": {
          "base_uri": "https://localhost:8080/"
        },
        "id": "9546fb07",
        "outputId": "b862e89d-8213-4549-e326-673c582b0f53"
      },
      "outputs": [
        {
          "output_type": "stream",
          "name": "stdout",
          "text": [
            "0.001186\n",
            "0.007328\n",
            "0.014714\n",
            "0.02805\n",
            "0.041244\n",
            "0.060512\n",
            "0.08116\n",
            "0.10028\n",
            "0.107386\n",
            "0.11381\n",
            "0.107826\n",
            "0.099132\n",
            "0.081936\n",
            "0.060938\n",
            "0.041284\n",
            "0.028332\n",
            "0.014692\n",
            "0.007472\n",
            "0.001288\n",
            "[0.001186, 0.007328, 0.014714, 0.02805, 0.041244, 0.060512, 0.08116, 0.10028, 0.107386, 0.11381, 0.107826, 0.099132, 0.081936, 0.060938, 0.041284, 0.028332, 0.014692, 0.007472, 0.001288]\n",
            "0.9985700000000001\n"
          ]
        }
      ],
      "source": [
        "#calculating probability of all possible sums\n",
        "\n",
        "#List of all cards (4 different suites)\n",
        "list=[7,7,7,7,8,8,8,8,9,9,9,9,10,10,10,10,11,11,11,11,12,12,12,12,13,13,13,13]\n",
        "\n",
        "#function which distributes one of the cards\n",
        "def getnumber(list):\n",
        "    value=rand.choice(list)\n",
        "    list.remove(value)\n",
        "    return value\n",
        "\n",
        "#Monte Carlo Simulation for calculating probability of different possible sums\n",
        "listofprob=[]\n",
        "totalprob=0\n",
        "r=500000\n",
        "for j in range(21,40):\n",
        "    n=0\n",
        "    sum=0\n",
        "    for i in range(r):\n",
        "        list=[7,7,7,7,8,8,8,8,9,9,9,9,10,10,10,10,11,11,11,11,12,12,12,12,13,13,13,13]\n",
        "        player=np.array([getnumber(list),getnumber(list),getnumber(list)])\n",
        "        sum=np.sum(player)\n",
        "        if(sum==j):\n",
        "            n=n+1\n",
        "    ans=n/r\n",
        "    totalprob=totalprob+ans\n",
        "    print(ans)\n",
        "    listofprob.append(ans)\n",
        "\n",
        "print(listofprob)\n",
        "print(totalprob)"
      ]
    },
    {
      "cell_type": "code",
      "source": [],
      "metadata": {
        "id": "gyX4dBkka-xl"
      },
      "id": "gyX4dBkka-xl",
      "execution_count": null,
      "outputs": []
    }
  ],
  "metadata": {
    "kernelspec": {
      "display_name": "Python 3 (ipykernel)",
      "language": "python",
      "name": "python3"
    },
    "language_info": {
      "codemirror_mode": {
        "name": "ipython",
        "version": 3
      },
      "file_extension": ".py",
      "mimetype": "text/x-python",
      "name": "python",
      "nbconvert_exporter": "python",
      "pygments_lexer": "ipython3",
      "version": "3.10.9"
    },
    "colab": {
      "provenance": []
    }
  },
  "nbformat": 4,
  "nbformat_minor": 5
}